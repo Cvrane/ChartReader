{
 "cells": [
  {
   "cell_type": "code",
   "execution_count": 11,
   "metadata": {
    "colab": {},
    "colab_type": "code",
    "id": "dePMt56QHN12"
   },
   "outputs": [],
   "source": [
    "import os, urllib\n",
    "import pandas as pd\n",
    "import tensorflow as tf\n",
    "import numpy as np\n",
    "\n",
    "from PIL import Image\n",
    "from matplotlib import pyplot as plt\n",
    "from tensorflow.keras.models import model_from_json\n",
    "from tensorflow.keras import applications\n",
    "from tensorflow.keras import optimizers\n",
    "from tensorflow.keras.models import Sequential, Model\n",
    "from tensorflow.keras.layers import Input, Dense, BatchNormalization, Dropout, Flatten, MaxPooling2D\n",
    "from tensorflow.keras.preprocessing.image import ImageDataGenerator"
   ]
  },
  {
   "cell_type": "code",
   "execution_count": 12,
   "metadata": {
    "colab": {},
    "colab_type": "code",
    "id": "YgZ7ldUZHN16"
   },
   "outputs": [],
   "source": [
    "os.environ[\"CUDA_VISIBLE_DEVICES\"] = \"0\""
   ]
  },
  {
   "cell_type": "code",
   "execution_count": null,
   "metadata": {},
   "outputs": [],
   "source": [
    "'''The following is done for the first time, to download the images and save the information to train.csv'''\n",
    "\n",
    "if not os.path.exists('revision-corpus/data'):\n",
    "    os.makedirs('revision-corpus/data')\n",
    "    \n",
    "data = {'chart': [], 'type': []}\n",
    "\n",
    "with open('revision-corpus/vis16cat.txt') as handler:\n",
    "    for index, line in enumerate(handler):\n",
    "        chartType, chart = line.strip().split(\"\\t\")\n",
    "        fileName = chart.split(\"/\")[-1]\n",
    "        \n",
    "        try:\n",
    "            urllib.request.urlretrieve(chart, \"revision-corpus/data/\" + fileName)\n",
    "            data['chart'].append(fileName)\n",
    "            data['type'].append(chartType)\n",
    "        except Exception as e:\n",
    "            print(\"[{0}][chart] {1}, [type] {2}, [error] {3}\".format(index, chart, chartType, e))\n",
    "                    \n",
    "traindf = pd.DataFrame(data)\n",
    "\n",
    "traindf.to_csv('train.csv', index = False)"
   ]
  },
  {
   "cell_type": "code",
   "execution_count": 29,
   "metadata": {
    "colab": {},
    "colab_type": "code",
    "id": "8Ty8gYWQHN2A"
   },
   "outputs": [],
   "source": [
    "'''Read from the csv file, if this is not the first time running this code'''\n",
    "\n",
    "traindf = pd.read_csv('train.csv')"
   ]
  },
  {
   "cell_type": "code",
   "execution_count": 30,
   "metadata": {
    "colab": {
     "base_uri": "https://localhost:8080/",
     "height": 195
    },
    "colab_type": "code",
    "id": "KPXXM58oHN2C",
    "outputId": "a9a5a35d-69d9-4357-b025-b3b7fbdc6ef3"
   },
   "outputs": [
    {
     "data": {
      "text/html": [
       "<div>\n",
       "<style scoped>\n",
       "    .dataframe tbody tr th:only-of-type {\n",
       "        vertical-align: middle;\n",
       "    }\n",
       "\n",
       "    .dataframe tbody tr th {\n",
       "        vertical-align: top;\n",
       "    }\n",
       "\n",
       "    .dataframe thead th {\n",
       "        text-align: right;\n",
       "    }\n",
       "</style>\n",
       "<table border=\"1\" class=\"dataframe\">\n",
       "  <thead>\n",
       "    <tr style=\"text-align: right;\">\n",
       "      <th></th>\n",
       "      <th>chart</th>\n",
       "      <th>type</th>\n",
       "    </tr>\n",
       "  </thead>\n",
       "  <tbody>\n",
       "    <tr>\n",
       "      <th>0</th>\n",
       "      <td>c3_area.jpg</td>\n",
       "      <td>AreaGraph</td>\n",
       "    </tr>\n",
       "    <tr>\n",
       "      <th>1</th>\n",
       "      <td>grafico%2Bd%2Barea.jpg</td>\n",
       "      <td>AreaGraph</td>\n",
       "    </tr>\n",
       "    <tr>\n",
       "      <th>2</th>\n",
       "      <td>areacolor06.jpg</td>\n",
       "      <td>AreaGraph</td>\n",
       "    </tr>\n",
       "    <tr>\n",
       "      <th>3</th>\n",
       "      <td>ZA100902863082%255B1%255D.gif</td>\n",
       "      <td>AreaGraph</td>\n",
       "    </tr>\n",
       "    <tr>\n",
       "      <th>4</th>\n",
       "      <td>grafico%2B3b.jpg</td>\n",
       "      <td>AreaGraph</td>\n",
       "    </tr>\n",
       "  </tbody>\n",
       "</table>\n",
       "</div>"
      ],
      "text/plain": [
       "                           chart       type\n",
       "0                    c3_area.jpg  AreaGraph\n",
       "1         grafico%2Bd%2Barea.jpg  AreaGraph\n",
       "2                areacolor06.jpg  AreaGraph\n",
       "3  ZA100902863082%255B1%255D.gif  AreaGraph\n",
       "4               grafico%2B3b.jpg  AreaGraph"
      ]
     },
     "execution_count": 30,
     "metadata": {
      "tags": []
     },
     "output_type": "execute_result"
    }
   ],
   "source": [
    "traindf.head()"
   ]
  },
  {
   "cell_type": "code",
   "execution_count": 31,
   "metadata": {
    "colab": {
     "base_uri": "https://localhost:8080/",
     "height": 87
    },
    "colab_type": "code",
    "id": "lmnVtC81HN2E",
    "outputId": "b498e895-ecff-49b5-e1b3-71fe4d4968c0"
   },
   "outputs": [
    {
     "name": "stdout",
     "output_type": "stream",
     "text": [
      "Found 593 validated image filenames belonging to 13 classes.\n"
     ]
    },
    {
     "name": "stderr",
     "output_type": "stream",
     "text": [
      "/usr/local/lib/python3.6/dist-packages/keras_preprocessing/image/dataframe_iterator.py:282: UserWarning: Found 586 invalid image filename(s) in x_col=\"chart\". These filename(s) will be ignored.\n",
      "  .format(n_invalid, x_col)\n"
     ]
    }
   ],
   "source": [
    "datagen = ImageDataGenerator(rescale=1./255.,\n",
    "                             rotation_range=10,\n",
    "                             width_shift_range=0.1, \n",
    "                             height_shift_range=0.1)\n",
    "\n",
    "train_generator = datagen.flow_from_dataframe(\n",
    "    dataframe = traindf,\n",
    "    directory = \"./revision-corpus/data\",\n",
    "    x_col = \"chart\",\n",
    "    y_col = \"type\",\n",
    "    subset = \"training\",\n",
    "    batch_size = 32,\n",
    "    seed = 42,\n",
    "    shuffle = True,\n",
    "    class_mode = \"categorical\",\n",
    "    target_size = (224, 224))"
   ]
  },
  {
   "cell_type": "code",
   "execution_count": 32,
   "metadata": {
    "colab": {
     "base_uri": "https://localhost:8080/",
     "height": 689
    },
    "colab_type": "code",
    "id": "qfrpm3OkNxnr",
    "outputId": "852712ec-29f8-49ee-a6ee-3e2b668674bb"
   },
   "outputs": [
    {
     "name": "stdout",
     "output_type": "stream",
     "text": [
      "Model: \"model_4\"\n",
      "_________________________________________________________________\n",
      "Layer (type)                 Output Shape              Param #   \n",
      "=================================================================\n",
      "image_input (InputLayer)     [(None, 224, 224, 3)]     0         \n",
      "_________________________________________________________________\n",
      "vgg19 (Model)                (None, 7, 7, 512)         20024384  \n",
      "_________________________________________________________________\n",
      "batch_normalization_14 (Batc (None, 7, 7, 512)         2048      \n",
      "_________________________________________________________________\n",
      "max_pooling2d_2 (MaxPooling2 (None, 4, 4, 512)         0         \n",
      "_________________________________________________________________\n",
      "dropout_14 (Dropout)         (None, 4, 4, 512)         0         \n",
      "_________________________________________________________________\n",
      "flatten_2 (Flatten)          (None, 8192)              0         \n",
      "_________________________________________________________________\n",
      "dense_17 (Dense)             (None, 4096)              33558528  \n",
      "_________________________________________________________________\n",
      "batch_normalization_15 (Batc (None, 4096)              16384     \n",
      "_________________________________________________________________\n",
      "dropout_15 (Dropout)         (None, 4096)              0         \n",
      "_________________________________________________________________\n",
      "dense_18 (Dense)             (None, 1024)              4195328   \n",
      "_________________________________________________________________\n",
      "batch_normalization_16 (Batc (None, 1024)              4096      \n",
      "_________________________________________________________________\n",
      "dropout_16 (Dropout)         (None, 1024)              0         \n",
      "_________________________________________________________________\n",
      "dense_19 (Dense)             (None, 512)               524800    \n",
      "_________________________________________________________________\n",
      "batch_normalization_17 (Batc (None, 512)               2048      \n",
      "_________________________________________________________________\n",
      "dropout_17 (Dropout)         (None, 512)               0         \n",
      "_________________________________________________________________\n",
      "dense_20 (Dense)             (None, 13)                6669      \n",
      "=================================================================\n",
      "Total params: 58,334,285\n",
      "Trainable params: 47,736,845\n",
      "Non-trainable params: 10,597,440\n",
      "_________________________________________________________________\n"
     ]
    }
   ],
   "source": [
    "vgg_model = applications.VGG19(weights = \"imagenet\", include_top=False, input_shape = (224, 224, 3))\n",
    "\n",
    "for layer in vgg_model.layers[:-5]:\n",
    "    layer.trainable=False\n",
    "    \n",
    "input = Input(shape=(224, 224, 3),name = 'image_input')\n",
    "output_vgg16_conv = vgg_model(input)\n",
    "\n",
    "x = BatchNormalization()(output_vgg16_conv)\n",
    "x = MaxPooling2D(pool_size=(2, 2), padding='same')(x)\n",
    "x = Dropout(0.2)(x)\n",
    "\n",
    "x = Flatten()(x)\n",
    "x = Dense(4096, activation='relu')(x)\n",
    "x = BatchNormalization()(x)\n",
    "x = Dropout(0.3)(x)\n",
    "\n",
    "x = Dense(1024, activation='relu')(x)\n",
    "x = BatchNormalization()(x)\n",
    "x = Dropout(0.3)(x)\n",
    "\n",
    "x = Dense(512, activation='relu')(x)\n",
    "x = BatchNormalization()(x)\n",
    "x = Dropout(0.3)(x)\n",
    "\n",
    "x = Dense(13, activation='softmax')(x)\n",
    "\n",
    "model = Model(inputs=input, outputs=x)\n",
    "\n",
    "model.summary()"
   ]
  },
  {
   "cell_type": "code",
   "execution_count": 33,
   "metadata": {
    "colab": {},
    "colab_type": "code",
    "id": "sOAf7hvyHN2L"
   },
   "outputs": [],
   "source": [
    "model.compile(loss = \"categorical_crossentropy\",\n",
    "              optimizer = optimizers.Adadelta(lr = 1.0, rho = 0.95, epsilon = 1e-08, decay = 0.0),\n",
    "              metrics = ['accuracy'])"
   ]
  },
  {
   "cell_type": "code",
   "execution_count": 34,
   "metadata": {
    "colab": {
     "base_uri": "https://localhost:8080/",
     "height": 1000
    },
    "colab_type": "code",
    "id": "_8VxmIuoHN2Q",
    "outputId": "d55d57b7-89a0-48b9-83ec-65c10011479a",
    "scrolled": false
   },
   "outputs": [
    {
     "name": "stdout",
     "output_type": "stream",
     "text": [
      "Epoch 1/50\n",
      " 3/18 [====>.........................] - ETA: 4s - loss: 3.3713 - accuracy: 0.1771"
     ]
    },
    {
     "name": "stderr",
     "output_type": "stream",
     "text": [
      "/usr/local/lib/python3.6/dist-packages/PIL/Image.py:932: UserWarning: Palette images with Transparency expressed in bytes should be converted to RGBA images\n",
      "  \"Palette images with Transparency expressed in bytes should be \"\n"
     ]
    },
    {
     "name": "stdout",
     "output_type": "stream",
     "text": [
      "12/18 [===================>..........] - ETA: 3s - loss: 2.6551 - accuracy: 0.2839"
     ]
    },
    {
     "name": "stderr",
     "output_type": "stream",
     "text": [
      "/usr/local/lib/python3.6/dist-packages/PIL/TiffImagePlugin.py:788: UserWarning: Corrupt EXIF data.  Expecting to read 4 bytes but only got 0. \n",
      "  warnings.warn(str(msg))\n"
     ]
    },
    {
     "name": "stdout",
     "output_type": "stream",
     "text": [
      "18/18 [==============================] - 11s 593ms/step - loss: 2.6077 - accuracy: 0.2865\n",
      "Epoch 2/50\n",
      "18/18 [==============================] - 11s 618ms/step - loss: 1.6338 - accuracy: 0.5187\n",
      "Epoch 3/50\n",
      "18/18 [==============================] - 11s 631ms/step - loss: 1.1167 - accuracy: 0.6542\n",
      "Epoch 4/50\n",
      "18/18 [==============================] - 10s 536ms/step - loss: 1.0039 - accuracy: 0.7041\n",
      "Epoch 5/50\n",
      "18/18 [==============================] - 11s 599ms/step - loss: 0.7023 - accuracy: 0.7807\n",
      "Epoch 6/50\n",
      "18/18 [==============================] - 11s 617ms/step - loss: 0.7041 - accuracy: 0.7754\n",
      "Epoch 7/50\n",
      "18/18 [==============================] - 11s 614ms/step - loss: 0.4915 - accuracy: 0.8324\n",
      "Epoch 8/50\n",
      "18/18 [==============================] - 10s 578ms/step - loss: 0.4584 - accuracy: 0.8699\n",
      "Epoch 9/50\n",
      "18/18 [==============================] - 11s 624ms/step - loss: 0.3744 - accuracy: 0.8717\n",
      "Epoch 10/50\n",
      "18/18 [==============================] - 11s 625ms/step - loss: 0.3445 - accuracy: 0.8948\n",
      "Epoch 11/50\n",
      "18/18 [==============================] - 11s 619ms/step - loss: 0.3622 - accuracy: 0.8770\n",
      "Epoch 12/50\n",
      "18/18 [==============================] - 11s 604ms/step - loss: 0.3972 - accuracy: 0.8699\n",
      "Epoch 13/50\n",
      "18/18 [==============================] - 10s 550ms/step - loss: 0.4102 - accuracy: 0.8627\n",
      "Epoch 14/50\n",
      "18/18 [==============================] - 11s 615ms/step - loss: 0.2813 - accuracy: 0.9180\n",
      "Epoch 15/50\n",
      "18/18 [==============================] - 11s 617ms/step - loss: 0.2870 - accuracy: 0.9020\n",
      "Epoch 16/50\n",
      "18/18 [==============================] - 12s 641ms/step - loss: 0.2607 - accuracy: 0.9109\n",
      "Epoch 17/50\n",
      "18/18 [==============================] - 11s 630ms/step - loss: 0.1711 - accuracy: 0.9394\n",
      "Epoch 18/50\n",
      "18/18 [==============================] - 11s 627ms/step - loss: 0.2572 - accuracy: 0.9305\n",
      "Epoch 19/50\n",
      "18/18 [==============================] - 10s 574ms/step - loss: 0.1555 - accuracy: 0.9537\n",
      "Epoch 20/50\n",
      "18/18 [==============================] - 10s 569ms/step - loss: 0.1826 - accuracy: 0.9394\n",
      "Epoch 21/50\n",
      "18/18 [==============================] - 11s 593ms/step - loss: 0.1915 - accuracy: 0.9554\n",
      "Epoch 22/50\n",
      "18/18 [==============================] - 11s 593ms/step - loss: 0.2044 - accuracy: 0.9430\n",
      "Epoch 23/50\n",
      "18/18 [==============================] - 11s 617ms/step - loss: 0.1285 - accuracy: 0.9537\n",
      "Epoch 24/50\n",
      "18/18 [==============================] - 11s 607ms/step - loss: 0.1405 - accuracy: 0.9554\n",
      "Epoch 25/50\n",
      "18/18 [==============================] - 11s 614ms/step - loss: 0.1621 - accuracy: 0.9447\n",
      "Epoch 26/50\n",
      "18/18 [==============================] - 11s 592ms/step - loss: 0.0649 - accuracy: 0.9768\n",
      "Epoch 27/50\n",
      "18/18 [==============================] - 10s 561ms/step - loss: 0.1265 - accuracy: 0.9697\n",
      "Epoch 28/50\n",
      "18/18 [==============================] - 10s 576ms/step - loss: 0.1488 - accuracy: 0.9501\n",
      "Epoch 29/50\n",
      "18/18 [==============================] - 10s 581ms/step - loss: 0.1512 - accuracy: 0.9626\n",
      "Epoch 30/50\n",
      "18/18 [==============================] - 11s 605ms/step - loss: 0.1119 - accuracy: 0.9626\n",
      "Epoch 31/50\n",
      "18/18 [==============================] - 11s 611ms/step - loss: 0.1392 - accuracy: 0.9643\n",
      "Epoch 32/50\n",
      "18/18 [==============================] - 11s 618ms/step - loss: 0.0923 - accuracy: 0.9661\n",
      "Epoch 33/50\n",
      "18/18 [==============================] - 10s 582ms/step - loss: 0.0714 - accuracy: 0.9715\n",
      "Epoch 34/50\n",
      "18/18 [==============================] - 11s 609ms/step - loss: 0.0504 - accuracy: 0.9857\n",
      "Epoch 35/50\n",
      "18/18 [==============================] - 11s 589ms/step - loss: 0.0678 - accuracy: 0.9875\n",
      "Epoch 36/50\n",
      "18/18 [==============================] - 11s 626ms/step - loss: 0.1223 - accuracy: 0.9643\n",
      "Epoch 37/50\n",
      "18/18 [==============================] - 11s 612ms/step - loss: 0.1053 - accuracy: 0.9643\n",
      "Epoch 38/50\n",
      "18/18 [==============================] - 11s 606ms/step - loss: 0.0967 - accuracy: 0.9697\n",
      "Epoch 39/50\n",
      "18/18 [==============================] - 10s 535ms/step - loss: 0.0790 - accuracy: 0.9768\n",
      "Epoch 40/50\n",
      "18/18 [==============================] - 11s 626ms/step - loss: 0.1010 - accuracy: 0.9601\n",
      "Epoch 41/50\n",
      "18/18 [==============================] - 10s 550ms/step - loss: 0.0705 - accuracy: 0.9768\n",
      "Epoch 42/50\n",
      "18/18 [==============================] - 11s 601ms/step - loss: 0.1061 - accuracy: 0.9715\n",
      "Epoch 43/50\n",
      "18/18 [==============================] - 12s 640ms/step - loss: 0.1377 - accuracy: 0.9679\n",
      "Epoch 44/50\n",
      "18/18 [==============================] - 11s 612ms/step - loss: 0.0657 - accuracy: 0.9786\n",
      "Epoch 45/50\n",
      "18/18 [==============================] - 11s 614ms/step - loss: 0.0950 - accuracy: 0.9750\n",
      "Epoch 46/50\n",
      "18/18 [==============================] - 11s 615ms/step - loss: 0.0871 - accuracy: 0.9697\n",
      "Epoch 47/50\n",
      "18/18 [==============================] - 11s 615ms/step - loss: 0.0601 - accuracy: 0.9804\n",
      "Epoch 48/50\n",
      "18/18 [==============================] - 10s 574ms/step - loss: 0.0599 - accuracy: 0.9774\n",
      "Epoch 49/50\n",
      "18/18 [==============================] - 10s 541ms/step - loss: 0.0515 - accuracy: 0.9857\n",
      "Epoch 50/50\n",
      "18/18 [==============================] - 11s 618ms/step - loss: 0.0471 - accuracy: 0.9857\n"
     ]
    }
   ],
   "source": [
    "STEP_SIZE_TRAIN = train_generator.samples // train_generator.batch_size\n",
    "\n",
    "history = model.fit(train_generator,\n",
    "            steps_per_epoch = STEP_SIZE_TRAIN,\n",
    "            epochs = 50,\n",
    "            verbose = 1)"
   ]
  },
  {
   "cell_type": "code",
   "execution_count": 35,
   "metadata": {
    "colab": {
     "base_uri": "https://localhost:8080/",
     "height": 34
    },
    "colab_type": "code",
    "id": "rljYvSzXN72p",
    "outputId": "7c1326c2-b944-4a26-d510-ff62ae83e45b"
   },
   "outputs": [
    {
     "name": "stdout",
     "output_type": "stream",
     "text": [
      "Saved model to disk\n"
     ]
    }
   ],
   "source": [
    "# serialize model to JSON\n",
    "model_json = model.to_json()\n",
    "with open(\"model.json\", \"w\") as json_file:\n",
    "    json_file.write(model_json)\n",
    "    \n",
    "# serialize weights to HDF5\n",
    "model.save_weights(\"model.h5\")\n",
    "print(\"Saved model to disk\")"
   ]
  },
  {
   "cell_type": "code",
   "execution_count": 38,
   "metadata": {
    "colab": {
     "base_uri": "https://localhost:8080/",
     "height": 295
    },
    "colab_type": "code",
    "id": "plGodnyZP8Ie",
    "outputId": "e1779959-4cf5-4e66-dbf4-bc58c4c9f1e2"
   },
   "outputs": [
    {
     "data": {
      "image/png": "[encoded data removed]",
      "text/plain": [
       "<Figure size 432x288 with 1 Axes>"
      ]
     },
     "metadata": {
      "needs_background": "light",
      "tags": []
     },
     "output_type": "display_data"
    }
   ],
   "source": [
    "plt.plot(history.history['accuracy'])\n",
    "plt.title('model accuracy')\n",
    "plt.ylabel('accuracy')\n",
    "plt.xlabel('epoch')\n",
    "plt.show()"
   ]
  },
  {
   "cell_type": "code",
   "execution_count": 39,
   "metadata": {
    "colab": {
     "base_uri": "https://localhost:8080/",
     "height": 295
    },
    "colab_type": "code",
    "id": "H3ctW-T4Suei",
    "outputId": "96ac3ba6-d3fe-4cee-c10d-2f893e402e4d"
   },
   "outputs": [
    {
     "data": {
      "image/png": "[encoded data removed]",
      "text/plain": [
       "<Figure size 432x288 with 1 Axes>"
      ]
     },
     "metadata": {
      "needs_background": "light",
      "tags": []
     },
     "output_type": "display_data"
    }
   ],
   "source": [
    "plt.plot(history.history['loss'])\n",
    "plt.title('model loss')\n",
    "plt.ylabel('loss')\n",
    "plt.xlabel('epoch')\n",
    "plt.show()"
   ]
  },
  {
   "cell_type": "code",
   "execution_count": 5,
   "metadata": {},
   "outputs": [
    {
     "name": "stdout",
     "output_type": "stream",
     "text": [
      "Found 9709 validated image filenames.\n"
     ]
    }
   ],
   "source": [
    "testdf = pd.read_csv('test.csv')\n",
    "\n",
    "test_datagen = ImageDataGenerator(rescale=1./255.)\n",
    "\n",
    "test_generator = test_datagen.flow_from_dataframe(\n",
    "    dataframe = testdf,\n",
    "    directory = \"./../DataMining/AllData/filtered/images/\",\n",
    "    x_col = \"chart\",\n",
    "    y_col = None,\n",
    "    batch_size = 1,\n",
    "    seed = 42,\n",
    "    shuffle = False,\n",
    "    class_mode = None,\n",
    "    target_size = (224, 224))"
   ]
  },
  {
   "cell_type": "code",
   "execution_count": 6,
   "metadata": {},
   "outputs": [
    {
     "name": "stdout",
     "output_type": "stream",
     "text": [
      "Loaded model from disk\n"
     ]
    }
   ],
   "source": [
    "json_file = open('model.json', 'r')\n",
    "loaded_model_json = json_file.read()\n",
    "json_file.close()\n",
    "\n",
    "loaded_model = model_from_json(loaded_model_json)\n",
    "\n",
    "# load weights into new model\n",
    "loaded_model.load_weights(\"model.h5\")\n",
    "print(\"Loaded model from disk\")"
   ]
  },
  {
   "cell_type": "code",
   "execution_count": 14,
   "metadata": {},
   "outputs": [],
   "source": [
    "test_generator.reset()\n",
    "STEP_SIZE_TEST=test_generator.n // test_generator.batch_size\n",
    "\n",
    "pred = loaded_model.predict(test_generator,\n",
    "                            steps=STEP_SIZE_TEST,\n",
    "                            verbose=1)"
   ]
  },
  {
   "cell_type": "code",
   "execution_count": null,
   "metadata": {},
   "outputs": [],
   "source": [
    "predicted_class_indices = np.argmax(pred, axis=1)"
   ]
  },
  {
   "cell_type": "code",
   "execution_count": null,
   "metadata": {},
   "outputs": [],
   "source": [
    "labels = (train_generator.class_indices)\n",
    "labels = dict((v,k) for k,v in labels.items())\n",
    "predictions = [labels[k] for k in predicted_class_indices]"
   ]
  },
  {
   "cell_type": "code",
   "execution_count": null,
   "metadata": {},
   "outputs": [],
   "source": [
    "filenames = test_generator.filenames\n",
    "\n",
    "results = pd.DataFrame({\"chart\": filenames, \"type\": predictions})\n",
    "results.to_csv(\"predictions.csv\", index = False)"
   ]
  }
 ],
 "metadata": {
  "accelerator": "GPU",
  "colab": {
   "name": "ChartClassification.ipynb",
   "provenance": []
  },
  "kernelspec": {
   "display_name": "Python 3",
   "language": "python",
   "name": "python3"
  },
  "language_info": {
   "codemirror_mode": {
    "name": "ipython",
    "version": 3
   },
   "file_extension": ".py",
   "mimetype": "text/x-python",
   "name": "python",
   "nbconvert_exporter": "python",
   "pygments_lexer": "ipython3",
   "version": "3.7.6"
  }
 },
 "nbformat": 4,
 "nbformat_minor": 1
}
