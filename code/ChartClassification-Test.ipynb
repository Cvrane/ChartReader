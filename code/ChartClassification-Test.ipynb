{
 "cells": [
  {
   "cell_type": "code",
   "execution_count": 1,
   "metadata": {},
   "outputs": [],
   "source": [
    "import os, shutil\n",
    "import numpy as np\n",
    "import pandas as pd\n",
    "import tensorflow as tf\n",
    "\n",
    "from PIL import Image\n",
    "from tensorflow.keras import applications\n",
    "from tensorflow.keras import optimizers\n",
    "from tensorflow.keras.models import Sequential, Model\n",
    "from tensorflow.keras.models import model_from_json\n",
    "from tensorflow.keras.layers import Input, Dense, BatchNormalization, Dropout, Flatten, MaxPooling2D\n",
    "from tensorflow.keras.preprocessing.image import ImageDataGenerator"
   ]
  },
  {
   "cell_type": "code",
   "execution_count": 2,
   "metadata": {},
   "outputs": [],
   "source": [
    "os.environ[\"CUDA_VISIBLE_DEVICES\"] = \"0\""
   ]
  },
  {
   "cell_type": "code",
   "execution_count": 3,
   "metadata": {},
   "outputs": [],
   "source": [
    "TEST_DIR = './../../DataMining/AllData/filtered/images/'\n",
    "MODEL_DIR = '../model'\n",
    "OUTPUT_DIR = 'barplots'"
   ]
  },
  {
   "cell_type": "code",
   "execution_count": 4,
   "metadata": {},
   "outputs": [
    {
     "name": "stdout",
     "output_type": "stream",
     "text": [
      "Found 9709 validated image filenames.\n"
     ]
    }
   ],
   "source": [
    "testdf = pd.read_csv(MODEL_DIR + '/test.csv')\n",
    "\n",
    "test_datagen = ImageDataGenerator(rescale=1./255.)\n",
    "\n",
    "test_generator = test_datagen.flow_from_dataframe(\n",
    "    dataframe = testdf,\n",
    "    directory = TEST_DIR,\n",
    "    x_col = \"chart\",\n",
    "    y_col = None,\n",
    "    batch_size = 1,\n",
    "    seed = 42,\n",
    "    shuffle = False,\n",
    "    class_mode = None,\n",
    "    target_size = (224, 224))"
   ]
  },
  {
   "cell_type": "code",
   "execution_count": 5,
   "metadata": {},
   "outputs": [
    {
     "name": "stdout",
     "output_type": "stream",
     "text": [
      "Loaded model from disk\n"
     ]
    }
   ],
   "source": [
    "json_file = open(MODEL_DIR + '/model.json', 'r')\n",
    "loaded_model_json = json_file.read()\n",
    "json_file.close()\n",
    "\n",
    "loaded_model = model_from_json(loaded_model_json)\n",
    "\n",
    "# load weights into new model\n",
    "loaded_model.load_weights(MODEL_DIR + '/model.h5')\n",
    "print(\"Loaded model from disk\")"
   ]
  },
  {
   "cell_type": "code",
   "execution_count": null,
   "metadata": {},
   "outputs": [
    {
     "name": "stdout",
     "output_type": "stream",
     "text": [
      "   1/9709 [..............................] - ETA: 0sWARNING:tensorflow:Callbacks method `on_predict_batch_end` is slow compared to the batch time (batch time: 0.0020s vs `on_predict_batch_end` time: 0.0170s). Check your callbacks.\n",
      "8093/9709 [========================>.....] - ETA: 32s"
     ]
    }
   ],
   "source": [
    "test_generator.reset()\n",
    "STEP_SIZE_TEST=test_generator.n // test_generator.batch_size\n",
    "\n",
    "pred = loaded_model.predict(test_generator,\n",
    "                            steps=STEP_SIZE_TEST,\n",
    "                            verbose=1)\n",
    "\n",
    "predicted_class_indices = np.argmax(pred, axis=1)"
   ]
  },
  {
   "cell_type": "code",
   "execution_count": null,
   "metadata": {},
   "outputs": [],
   "source": [
    "class_indices = {'AreaGraph': 0,\n",
    " 'BarGraph': 1,\n",
    " 'BoxPlot': 2,\n",
    " 'BubbleChart': 3,\n",
    " 'FlowChart': 4,\n",
    " 'LineGraph': 5,\n",
    " 'Map': 6,\n",
    " 'NetworkDiagram': 7,\n",
    " 'ParetoChart': 8,\n",
    " 'PieChart': 9,\n",
    " 'ScatterGraph': 10,\n",
    " 'TreeDiagram': 11,\n",
    " 'VennDiagram': 12}\n",
    "\n",
    "labels = class_indices\n",
    "labels = dict((v,k) for k,v in labels.items())\n",
    "predictions = [labels[k] for k in predicted_class_indices]\n",
    "\n",
    "filenames = test_generator.filenames\n",
    "results = pd.DataFrame({\"chart\": filenames, \"type\": predictions})"
   ]
  },
  {
   "cell_type": "code",
   "execution_count": null,
   "metadata": {},
   "outputs": [],
   "source": [
    "barplots = results.loc[results['type'] == 'BarGraph']\n",
    "barplotlist = barplots['chart'].tolist()"
   ]
  },
  {
   "cell_type": "code",
   "execution_count": null,
   "metadata": {},
   "outputs": [],
   "source": [
    "if not os.path.exists(OUTPUT_DIR):\n",
    "    os.mkdir(OUTPUT_DIR)\n",
    "    \n",
    "for file in os.listdir(TEST_DIR):\n",
    "    if file in barplotlist:\n",
    "        shutil.copy(os.path.join(TEST_DIR, file), OUTPUT_DIR)"
   ]
  }
 ],
 "metadata": {
  "kernelspec": {
   "display_name": "Python 3",
   "language": "python",
   "name": "python3"
  },
  "language_info": {
   "codemirror_mode": {
    "name": "ipython",
    "version": 3
   },
   "file_extension": ".py",
   "mimetype": "text/x-python",
   "name": "python",
   "nbconvert_exporter": "python",
   "pygments_lexer": "ipython3",
   "version": "3.8.6"
  }
 },
 "nbformat": 4,
 "nbformat_minor": 4
}
